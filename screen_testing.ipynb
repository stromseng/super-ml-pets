{
    "cells": [
        {
            "cell_type": "code",
            "execution_count": 1,
            "metadata": {},
            "outputs": [
                {
                    "ename": "",
                    "evalue": "",
                    "output_type": "error",
                    "traceback": [
                        "\u001b[1;31mThe file '.venv/lib/python3.10/site-packages/typing_extensions.py' seems to be overriding built in modules and interfering with the startup of the kernel. Consider renaming the file and starting the kernel again.\n",
                        "\u001b[1;31mClick <a href='https://aka.ms/kernelFailuresOverridingBuiltInModules'>here</a> for more info."
                    ]
                }
            ],
            "source": [
                "import pyautogui\n",
                "from PIL import Image, ImageDraw\n",
                "import pywinctl\n",
                "import pyautogui\n",
                "import time\n",
                "from PIL import Image\n",
                "import tkinter as tk"
            ]
        },
        {
            "cell_type": "code",
            "execution_count": 2,
            "metadata": {},
            "outputs": [
                {
                    "name": "stdout",
                    "output_type": "stream",
                    "text": [
                        "Window found: <MacOSWindow left=\"766\", top=\"263\", width=\"718\", height=\"453\", title=\"Super Auto Pets\">\n"
                    ]
                }
            ],
            "source": [
                "import pywinctl\n",
                "\n",
                "# Locate the \"Super Auto Pets\" window\n",
                "window = pywinctl.getWindowsWithTitle('Super Auto Pets')\n",
                "\n",
                "if window:\n",
                "    app_window = window[0]\n",
                "    print(f\"Window found: {app_window}\")\n",
                "else:\n",
                "    print(\"Application 'Super Auto Pets' not found.\")"
            ]
        },
        {
            "cell_type": "code",
            "execution_count": 3,
            "metadata": {},
            "outputs": [],
            "source": [
                "# Calculate the screen scale based on the window dimensions\n",
                "def get_screen_scale():\n",
                "    screen_width, screen_height = pyautogui.size()\n",
                "    window_width = app_window.width\n",
                "    window_height = app_window.height\n",
                "    return (window_width / screen_width, window_height / screen_height)\n",
                "\n",
                "dimensions_scale = get_screen_scale()\n",
                "# template dimensions -> to be scaled if necessary\n",
                "img_n_width = 130\n",
                "bboxes = [\n",
                "    [10, 0, 140, img_n_width],\n",
                "    [155, 0, 285, img_n_width],\n",
                "    [300, 0, 430, img_n_width],\n",
                "    [445, 0, 575, img_n_width],\n",
                "    [590, 0, 720, img_n_width],\n",
                "    [1015, 0, 1145, img_n_width],\n",
                "    [1160, 0, 1290, img_n_width],\n",
                "    # [730, 0, 860, img_n_width],\n",
                "    # [875, 0, 1005, img_n_width],\n",
                "]\n",
                "images = []\n",
                "for bbox in bboxes:\n",
                "    bbox[0] = dimensions_scale[0] * bbox[0]\n",
                "    bbox[1] = dimensions_scale[1] * bbox[1]\n",
                "    bbox[2] = dimensions_scale[0] * bbox[2]\n",
                "    bbox[3] = dimensions_scale[1] * bbox[3]"
            ]
        },
        {
            "cell_type": "code",
            "execution_count": 4,
            "metadata": {},
            "outputs": [],
            "source": [
                "root = tk.Tk()\n",
                "\n",
                "# Setting some window properties\n",
                "root.title(\"Tk Example\")\n",
                "root.configure(background=\"yellow\")\n",
                "root.minsize(200, 200)\n",
                "root.maxsize(500, 500)\n",
                "root.geometry(\"300x300+50+50\")\n",
                "\n",
                "root.mainloop()"
            ]
        },
        {
            "cell_type": "code",
            "execution_count": 22,
            "metadata": {},
            "outputs": [],
            "source": [
                "# Create a new Tkinter window\n",
                "overlay_window = tk.Tk()\n",
                "overlay_window.title(\"Example App Window\")\n",
                "\n",
                "# Set the dimensions of the window\n",
                "# overlay_window.geometry(\n",
                "#     f\"{app_window.width}x{app_window.height}+{app_window.left}+{app_window.top}\"\n",
                "# )\n",
                "\n",
                "# overlay_window.attributes(\"-transparent\", True)\n",
                "# overlay_window.config(bg=\"black\")\n",
                "\n",
                "greeting = tk.Label(text=\"Hello, Tkinter\")\n",
                "\n",
                "greeting.pack()\n",
                "\n",
                "# Create a canvas and add it to the window\n",
                "# canvas = tk.Canvas(\n",
                "#     overlay_window,\n",
                "#     width=app_window.width,\n",
                "#     height=app_window.height,\n",
                "#     bg=\"black\",\n",
                "#     highlightthickness=0,\n",
                "# )\n",
                "\n",
                "\n",
                "# # Draw the square\n",
                "# canvas.create_rectangle(0, 0, 500, 500, outline=\"red\", fill=\"red\", width=2)\n",
                "\n",
                "# canvas.pack()\n",
                "\n",
                "\n",
                "# Run the Tkinter event loop\n",
                "overlay_window.mainloop()"
            ]
        },
        {
            "cell_type": "code",
            "execution_count": null,
            "metadata": {},
            "outputs": [],
            "source": [
                "# Capture screenshots at the bbox positions\n",
                "for bbox in bboxes:\n",
                "    left = int(app_window.left + bbox[0])\n",
                "    top = int(app_window.top + bbox[1])\n",
                "    width = int(bbox[2] - bbox[0])\n",
                "    height = int(bbox[3] - bbox[1])\n",
                "    region = (left, top, width, height)\n",
                "\n",
                "    screenshot = pyautogui.screenshot(region=region)\n",
                "    images.append(screenshot)\n",
                "    import matplotlib.pyplot as plt\n",
                "\n",
                "    plt.imshow(screenshot)\n",
                "    plt.title(f\"Screenshot at ({left}, {top})\")\n",
                "    plt.show()"
            ]
        }
    ],
    "metadata": {
        "kernelspec": {
            "display_name": ".venv",
            "language": "python",
            "name": "python3"
        },
        "language_info": {
            "codemirror_mode": {
                "name": "ipython",
                "version": 3
            },
            "file_extension": ".py",
            "mimetype": "text/x-python",
            "name": "python",
            "nbconvert_exporter": "python",
            "pygments_lexer": "ipython3",
            "version": "3.12.8"
        }
    },
    "nbformat": 4,
    "nbformat_minor": 2
}
